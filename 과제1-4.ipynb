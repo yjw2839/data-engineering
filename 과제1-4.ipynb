{
 "cells": [
  {
   "cell_type": "code",
   "execution_count": 16,
   "id": "08c39c5a-db60-4be8-973f-a875c1434a36",
   "metadata": {},
   "outputs": [],
   "source": [
    "month = ['쌍', '쇠', '복', '돌', '팽', '육', '쌍', '개', '칠', '갑', '삼', '방']"
   ]
  },
  {
   "cell_type": "code",
   "execution_count": 18,
   "id": "959da5f1-4be1-4ee1-9403-15980017e85e",
   "metadata": {},
   "outputs": [],
   "source": [
    "day = ['봉', '구', '욕', '포', '똥', '삼', '식', '석', '놈', '님', '년', '돌', '단', '득', '방', '질', '장', '걸', '래', '룡', '동', '순', '자', '박', '창', '언', '것', '포', '만', '단', '국']"
   ]
  },
  {
   "cell_type": "code",
   "execution_count": 22,
   "id": "7a6e351a-ab35-4b9e-ad80-a97d2c042a2d",
   "metadata": {},
   "outputs": [],
   "source": [
    "def get_my_chosun_name(family_name, month, day):\n",
    "    print(\"당신의 조선시대 이름은\",family_name+month[month-1]+day[day-1]+\" 입니다.\")  "
   ]
  },
  {
   "cell_type": "code",
   "execution_count": 14,
   "id": "0098509a-723d-47d2-a34d-666283880809",
   "metadata": {},
   "outputs": [
    {
     "name": "stdout",
     "output_type": "stream",
     "text": [
      "당신의 조선시대 이름은 안칠걸 입니다.\n"
     ]
    }
   ],
   "source": [
    "get_my_chosun_name('안', 9, 18)"
   ]
  }
 ],
 "metadata": {
  "kernelspec": {
   "display_name": "Python 3 (ipykernel)",
   "language": "python",
   "name": "python3"
  },
  "language_info": {
   "codemirror_mode": {
    "name": "ipython",
    "version": 3
   },
   "file_extension": ".py",
   "mimetype": "text/x-python",
   "name": "python",
   "nbconvert_exporter": "python",
   "pygments_lexer": "ipython3",
   "version": "3.12.4"
  }
 },
 "nbformat": 4,
 "nbformat_minor": 5
}
