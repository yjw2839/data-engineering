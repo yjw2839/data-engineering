{
 "cells": [
  {
   "cell_type": "markdown",
   "metadata": {},
   "source": [
    "## 5. <strong>NumPy 배열</strong>"
   ]
  },
  {
   "cell_type": "code",
   "execution_count": 15,
   "metadata": {},
   "outputs": [
    {
     "name": "stdout",
     "output_type": "stream",
     "text": [
      "Requirement already satisfied: numpy in c:\\a\\lib\\site-packages (1.26.4)\n"
     ]
    }
   ],
   "source": [
    "# Python 패키지 설치 명령어\n",
    "!pip install numpy"
   ]
  },
  {
   "cell_type": "code",
   "execution_count": 101,
   "metadata": {},
   "outputs": [],
   "source": [
    "# NumPy 불러오기\n",
    "import numpy as np"
   ]
  },
  {
   "cell_type": "markdown",
   "metadata": {},
   "source": [
    "### <strong> 5.1 NumPy 배열 생성"
   ]
  },
  {
   "cell_type": "code",
   "execution_count": 21,
   "metadata": {},
   "outputs": [
    {
     "data": {
      "text/plain": [
       "array([1, 2, 3, 4, 5, 6])"
      ]
     },
     "execution_count": 21,
     "metadata": {},
     "output_type": "execute_result"
    }
   ],
   "source": [
    "# [+] 리스트 객체로부터 ndarray 객체 생성\n",
    "my_lst = [1, 2, 3, 4, 5, 6]\n",
    "my_arr = np.array(my_lst)\n",
    "\n",
    "my_arr"
   ]
  },
  {
   "cell_type": "code",
   "execution_count": 29,
   "metadata": {},
   "outputs": [
    {
     "data": {
      "text/plain": [
       "numpy.ndarray"
      ]
     },
     "execution_count": 29,
     "metadata": {},
     "output_type": "execute_result"
    }
   ],
   "source": [
    "type(my_arr)"
   ]
  },
  {
   "cell_type": "code",
   "execution_count": 41,
   "metadata": {},
   "outputs": [
    {
     "data": {
      "text/plain": [
       "array([1, 2, 3, 4, 5, 6])"
      ]
     },
     "execution_count": 41,
     "metadata": {},
     "output_type": "execute_result"
    }
   ],
   "source": [
    "# [+] 리스트/NumPy 배열 동시에 생성\n",
    "np.array([1, 2, 3, 4, 5, 6])"
   ]
  },
  {
   "cell_type": "markdown",
   "metadata": {},
   "source": [
    "#### 리스트 컴프리헨션 vs NumPy 배열"
   ]
  },
  {
   "cell_type": "code",
   "execution_count": 43,
   "metadata": {},
   "outputs": [
    {
     "data": {
      "text/plain": [
       "[25, 20, 35, 15, 15, 30, 45, 30]"
      ]
     },
     "execution_count": 43,
     "metadata": {},
     "output_type": "execute_result"
    }
   ],
   "source": [
    "prices = [20, 40, 35, 10, 25, 56]\n",
    "\n",
    "# [+] 리스트 컴프리헨션을 이용하여 5달러씩 가격을 일괄적으로 할인하기\n",
    "prices = [30, 25, 40, 20, 20, 35, 50, 35]\n",
    "new_prices = [price-5 for price in prices]\n",
    "\n",
    "new_prices"
   ]
  },
  {
   "cell_type": "code",
   "execution_count": 45,
   "metadata": {},
   "outputs": [
    {
     "name": "stdout",
     "output_type": "stream",
     "text": [
      "[25 20 35 15 15 30 45 30]\n"
     ]
    }
   ],
   "source": [
    "# [+] NumPy 배열의 연산을 통한 5달러씩 가격을 일괄적으로 할인하기\n",
    "prices_arr = np.array(prices)   # 배열 생성\n",
    "prices_arr -= 5   # 가격 수정\n",
    "print(prices_arr)"
   ]
  },
  {
   "cell_type": "markdown",
   "metadata": {},
   "source": [
    "#### 예제: 시험 점수 처리"
   ]
  },
  {
   "cell_type": "code",
   "execution_count": 49,
   "metadata": {},
   "outputs": [],
   "source": [
    "# 세 번의 시험에 대한 점수를 NumPy 배열로 선언\n",
    "test_1 = np.array([92, 94, 88, 91, 87])\n",
    "test_2 = np.array([79, 100, 86, 93, 91])\n",
    "test_3 = np.array([87, 85, 72, 90, 92])"
   ]
  },
  {
   "cell_type": "code",
   "execution_count": 51,
   "metadata": {},
   "outputs": [
    {
     "data": {
      "text/plain": [
       "array([89, 87, 74, 92, 94])"
      ]
     },
     "execution_count": 51,
     "metadata": {},
     "output_type": "execute_result"
    }
   ],
   "source": [
    "# [+] 세 번째 시험에 2점씩 더하기\n",
    "test_3_fixed = test_3 + 2\n",
    "\n",
    "test_3_fixed"
   ]
  },
  {
   "cell_type": "code",
   "execution_count": 53,
   "metadata": {},
   "outputs": [
    {
     "data": {
      "text/plain": [
       "array([260, 281, 248, 276, 272])"
      ]
     },
     "execution_count": 53,
     "metadata": {},
     "output_type": "execute_result"
    }
   ],
   "source": [
    "# [+] 학생 별 전체 시험 점수 총합 계산 -> total_grade\n",
    "total_grade = test_1 + test_2 + test_3_fixed\n",
    "\n",
    "total_grade"
   ]
  },
  {
   "cell_type": "code",
   "execution_count": 57,
   "metadata": {},
   "outputs": [
    {
     "data": {
      "text/plain": [
       "array([86.66666667, 93.66666667, 82.66666667, 92.        , 90.66666667])"
      ]
     },
     "execution_count": 57,
     "metadata": {},
     "output_type": "execute_result"
    }
   ],
   "source": [
    "# [+] 학생 별 평균 시험 점수 계산 -> final_grade\n",
    "final_grade = total_grade / 3\n",
    "\n",
    "final_grade"
   ]
  },
  {
   "cell_type": "code",
   "execution_count": 59,
   "metadata": {},
   "outputs": [
    {
     "data": {
      "text/plain": [
       "93"
      ]
     },
     "execution_count": 59,
     "metadata": {},
     "output_type": "execute_result"
    }
   ],
   "source": [
    "# [+] 인덱싱: Jeremy의 두 번째 시험 점수\n",
    "jeremy_test_2 = test_2[3]\n",
    "\n",
    "jeremy_test_2"
   ]
  },
  {
   "cell_type": "code",
   "execution_count": 61,
   "metadata": {},
   "outputs": [
    {
     "data": {
      "text/plain": [
       "array([94, 88])"
      ]
     },
     "execution_count": 61,
     "metadata": {},
     "output_type": "execute_result"
    }
   ],
   "source": [
    "# [+] Manual과 Adwoa의 첫 번째 시험 점수\n",
    "manual_adwoa_test_1 = test_1[1:3]\n",
    "\n",
    "manual_adwoa_test_1"
   ]
  },
  {
   "cell_type": "code",
   "execution_count": 63,
   "metadata": {},
   "outputs": [
    {
     "data": {
      "text/plain": [
       "array([[ 92,  94,  88,  91,  87],\n",
       "       [ 79, 100,  86,  93,  91],\n",
       "       [ 89,  87,  74,  92,  94]])"
      ]
     },
     "execution_count": 63,
     "metadata": {},
     "output_type": "execute_result"
    }
   ],
   "source": [
    "# [+] 전체 학생들의 점수를 2차원 배열에 저장 -> student_scores\n",
    "student_scores = np.array([test_1, test_2, test_3_fixed])\n",
    "\n",
    "student_scores"
   ]
  },
  {
   "cell_type": "code",
   "execution_count": 65,
   "metadata": {},
   "outputs": [
    {
     "data": {
      "text/plain": [
       "89"
      ]
     },
     "execution_count": 65,
     "metadata": {},
     "output_type": "execute_result"
    }
   ],
   "source": [
    "# [+] 2차원 배열 인덱싱: Tanya의 세 번째 시험 점수\n",
    "student_scores[2, 0] #[2][0]"
   ]
  },
  {
   "cell_type": "code",
   "execution_count": 67,
   "metadata": {},
   "outputs": [
    {
     "data": {
      "text/plain": [
       "array([87, 91, 94])"
      ]
     },
     "execution_count": 67,
     "metadata": {},
     "output_type": "execute_result"
    }
   ],
   "source": [
    "# [+] 2차원 배열 슬라이싱: Cody의 전체 시험 점수\n",
    "student_scores[:, 4]"
   ]
  },
  {
   "cell_type": "markdown",
   "metadata": {},
   "source": [
    "#### 배열 원소 단위의 논리 연산"
   ]
  },
  {
   "cell_type": "code",
   "execution_count": 71,
   "metadata": {},
   "outputs": [
    {
     "data": {
      "text/plain": [
       "array([False,  True, False, False,  True,  True, False,  True])"
      ]
     },
     "execution_count": 71,
     "metadata": {},
     "output_type": "execute_result"
    }
   ],
   "source": [
    "a = np.array([1, 20, 4, 6, 28, 88, 7, 12])\n",
    "\n",
    "# [+] 150 이상 여부를 마스킹\n",
    "...\n",
    "\n",
    "mask = a >= 10\n",
    "\n",
    "mask"
   ]
  },
  {
   "cell_type": "code",
   "execution_count": 73,
   "metadata": {},
   "outputs": [
    {
     "data": {
      "text/plain": [
       "array([20, 28, 88, 12])"
      ]
     },
     "execution_count": 73,
     "metadata": {},
     "output_type": "execute_result"
    }
   ],
   "source": [
    "# [+] 논리 연산을 이용하여 부분집합 구하기\n",
    "selected = a[a >= 10]\n",
    "\n",
    "selected"
   ]
  },
  {
   "cell_type": "code",
   "execution_count": 85,
   "metadata": {},
   "outputs": [
    {
     "data": {
      "text/plain": [
       "array([ 1, 20,  4,  6, 28, 88,  7, 12])"
      ]
     },
     "execution_count": 85,
     "metadata": {},
     "output_type": "execute_result"
    }
   ],
   "source": [
    "# [+] 논리식 결합: 논리합\n",
    "selected = a[(a> 10) | (a < 8 )]\n",
    "\n",
    "selected"
   ]
  },
  {
   "cell_type": "code",
   "execution_count": 87,
   "metadata": {},
   "outputs": [
    {
     "data": {
      "text/plain": [
       "array([20, 28])"
      ]
     },
     "execution_count": 87,
     "metadata": {},
     "output_type": "execute_result"
    }
   ],
   "source": [
    "# [+] 논리식 결합: 논리곱\n",
    "selected = a[(a> 19) & (a < 30 )]\n",
    "\n",
    "selected"
   ]
  },
  {
   "cell_type": "code",
   "execution_count": 89,
   "metadata": {},
   "outputs": [
    {
     "data": {
      "text/plain": [
       "array([0, 1, 2, 3, 4, 5, 6, 7, 8, 9])"
      ]
     },
     "execution_count": 89,
     "metadata": {},
     "output_type": "execute_result"
    }
   ],
   "source": [
    "# [+] 정수 배열 생성\n",
    "np.arange(10) # stop"
   ]
  },
  {
   "cell_type": "code",
   "execution_count": 105,
   "metadata": {},
   "outputs": [
    {
     "data": {
      "text/plain": [
       "array([[3, 6, 6, 0, 9],\n",
       "       [8, 4, 7, 0, 0],\n",
       "       [7, 1, 5, 7, 0]])"
      ]
     },
     "execution_count": 105,
     "metadata": {},
     "output_type": "execute_result"
    }
   ],
   "source": [
    "# [+] 난수 배열 생성\n",
    "np.random.seed(5)\n",
    "arr = np.random.randint(10, size=(3, 5))\n",
    "\n",
    "arr"
   ]
  },
  {
   "cell_type": "markdown",
   "metadata": {},
   "source": [
    "### <strong>5.2 배열 조작 연산</strong>"
   ]
  },
  {
   "cell_type": "code",
   "execution_count": 107,
   "metadata": {},
   "outputs": [
    {
     "name": "stdout",
     "output_type": "stream",
     "text": [
      "2\n",
      "(3, 5)\n",
      "15\n",
      "int32\n",
      "4\n",
      "60\n"
     ]
    }
   ],
   "source": [
    "# [+] 배열 속성\n",
    "print(arr.ndim)     # 차원 수\n",
    "print(arr.shape)    # 형상\n",
    "print(arr.size)     # 크기\n",
    "print(arr.dtype)    # 데이터 타입\n",
    "print(arr.itemsize) # 원소별 메모리 크기(bytes)\n",
    "print(arr.nbytes)   # 전체 메모리 크기"
   ]
  },
  {
   "cell_type": "code",
   "execution_count": 117,
   "metadata": {},
   "outputs": [
    {
     "name": "stdout",
     "output_type": "stream",
     "text": [
      "[0 1 2 3 4 5 6 7 8 9]\n",
      "[3 4 5 6]\n",
      "[0 1 2 3 4]\n",
      "[5 6 7 8 9]\n",
      "[0 3 6 9]\n",
      "[2 4 6]\n"
     ]
    }
   ],
   "source": [
    "# [+] 배열 슬라이싱\n",
    "arr = np.arange(10)\n",
    "print(arr)\n",
    "\n",
    "print(arr[3:7]) # 슬라이싱(start:stop)\n",
    "print(arr[:5]) # 시작 인덱스 생략(:stop)\n",
    "print(arr[5:]) # 종료 인덱스 생략(start:)\n",
    "print(arr[::3]) # 간격(::interval)\n",
    "print(arr[2:8:2]) # 슬라이싱(start:stop:interval)"
   ]
  },
  {
   "cell_type": "code",
   "execution_count": 119,
   "metadata": {},
   "outputs": [
    {
     "data": {
      "text/plain": [
       "array([[5, 0, 3, 3, 7, 9, 3, 5],\n",
       "       [2, 4, 7, 6, 8, 8, 1, 6],\n",
       "       [7, 7, 8, 1, 5, 9, 8, 9],\n",
       "       [4, 3, 0, 3, 5, 0, 2, 3],\n",
       "       [8, 1, 3, 3, 3, 7, 0, 1],\n",
       "       [9, 9, 0, 4, 7, 3, 2, 7]])"
      ]
     },
     "execution_count": 119,
     "metadata": {},
     "output_type": "execute_result"
    }
   ],
   "source": [
    "# [+] 난수 배열 생성\n",
    "np.random.seed(0)  # [+] 시드 설정\n",
    "arr = np.random.randint(10, size=(6, 8)) # [+] 난수 배열 생성\n",
    "\n",
    "arr"
   ]
  },
  {
   "cell_type": "code",
   "execution_count": 121,
   "metadata": {},
   "outputs": [
    {
     "data": {
      "text/plain": [
       "array([[8, 8, 1, 6],\n",
       "       [5, 9, 8, 9],\n",
       "       [5, 0, 2, 3]])"
      ]
     },
     "execution_count": 121,
     "metadata": {},
     "output_type": "execute_result"
    }
   ],
   "source": [
    "# [+] 다차원 배열 슬라이싱\n",
    "arr[1:4, 4:]"
   ]
  },
  {
   "cell_type": "code",
   "execution_count": 123,
   "metadata": {},
   "outputs": [
    {
     "name": "stdout",
     "output_type": "stream",
     "text": [
      "[[5 0]\n",
      " [2 4]]\n",
      "[[99  0]\n",
      " [ 2  4]]\n",
      "[[99  0  3  3  7  9  3  5]\n",
      " [ 2  4  7  6  8  8  1  6]\n",
      " [ 7  7  8  1  5  9  8  9]\n",
      " [ 4  3  0  3  5  0  2  3]\n",
      " [ 8  1  3  3  3  7  0  1]\n",
      " [ 9  9  0  4  7  3  2  7]]\n"
     ]
    }
   ],
   "source": [
    "# 배열 슬라이스 = 뷰(view)\n",
    "arr_sub = arr[:2, :2]\n",
    "print(arr_sub)\n",
    "\n",
    "arr_sub[0, 0] = 99\n",
    "print(arr_sub)\n",
    "\n",
    "print(arr)"
   ]
  },
  {
   "cell_type": "code",
   "execution_count": 125,
   "metadata": {},
   "outputs": [
    {
     "name": "stdout",
     "output_type": "stream",
     "text": [
      "[[99  0]\n",
      " [ 2  4]]\n",
      "[[99  0  3  3  7  9  3  5]\n",
      " [ 2  4  7  6  8  8  1  6]\n",
      " [ 7  7  8  1  5  9  8  9]\n",
      " [ 4  3  0  3  5  0  2  3]\n",
      " [ 8  1  3  3  3  7  0  1]\n",
      " [ 9  9  0  4  7  3  2  7]]\n"
     ]
    }
   ],
   "source": [
    "# 배열 복사본 생성\n",
    "arr_sub = arr[:2, :2].copy()\n",
    "\n",
    "arr_sub[0, 0] = 99\n",
    "print(arr_sub)\n",
    "\n",
    "print(arr)"
   ]
  },
  {
   "cell_type": "code",
   "execution_count": 127,
   "metadata": {},
   "outputs": [
    {
     "name": "stdout",
     "output_type": "stream",
     "text": [
      "[0 1 2 3 4 5 6 7 8 9]\n",
      "(10,)\n",
      "[[0 1 2 3 4]\n",
      " [5 6 7 8 9]]\n",
      "(2, 5)\n"
     ]
    }
   ],
   "source": [
    "# [+] 배열 재구조화: reshape()\n",
    "x = np.arange(10) # 0~9로 이루어진 배열 생성 (10,)\n",
    "print(x)\n",
    "print(x.shape)\n",
    "\n",
    "x = x.reshape(2, 5) # 배열을 2X5 형상으로 재구조화\n",
    "print(x)\n",
    "print(x.shape)"
   ]
  },
  {
   "cell_type": "code",
   "execution_count": 133,
   "metadata": {},
   "outputs": [
    {
     "name": "stdout",
     "output_type": "stream",
     "text": [
      "[1 2 3]\n",
      "(3,)\n"
     ]
    }
   ],
   "source": [
    "arr = np.arange(1,4)\n",
    "print(arr)\n",
    "print(arr.shape)"
   ]
  },
  {
   "cell_type": "code",
   "execution_count": 137,
   "metadata": {},
   "outputs": [
    {
     "name": "stdout",
     "output_type": "stream",
     "text": [
      "[[1]\n",
      " [2]\n",
      " [3]]\n",
      "(3, 1)\n"
     ]
    }
   ],
   "source": [
    "# [+] 배열 재구조화: 차원 추가(np.newaxis)\n",
    "arr_new = arr[:, np.newaxis]\n",
    "print(arr_new)\n",
    "print(arr_new.shape)"
   ]
  },
  {
   "cell_type": "markdown",
   "metadata": {},
   "source": [
    "#### <strong> 배열 연결하기</strong>"
   ]
  },
  {
   "cell_type": "code",
   "execution_count": 139,
   "metadata": {},
   "outputs": [
    {
     "name": "stdout",
     "output_type": "stream",
     "text": [
      "[1 2 3] [4 5 6] [7 8 9]\n"
     ]
    }
   ],
   "source": [
    "# 세 개의 배열 생성\n",
    "arr_1 = np.arange(1, 4)\n",
    "arr_2 = np.arange(4, 7)\n",
    "arr_3 = np.arange(7, 10)\n",
    "\n",
    "print(arr_1, arr_2, arr_3)"
   ]
  },
  {
   "cell_type": "code",
   "execution_count": 141,
   "metadata": {},
   "outputs": [
    {
     "data": {
      "text/plain": [
       "array([1, 2, 3, 7, 8, 9, 4, 5, 6])"
      ]
     },
     "execution_count": 141,
     "metadata": {},
     "output_type": "execute_result"
    }
   ],
   "source": [
    "# [+] 배열 연결: np.concatenate()\n",
    "np.concatenate([arr_1, arr_3, arr_2])"
   ]
  },
  {
   "cell_type": "code",
   "execution_count": 145,
   "metadata": {},
   "outputs": [
    {
     "data": {
      "text/plain": [
       "array([[1, 2, 3],\n",
       "       [4, 5, 6],\n",
       "       [7, 8, 9]])"
      ]
     },
     "execution_count": 145,
     "metadata": {},
     "output_type": "execute_result"
    }
   ],
   "source": [
    "# [+] 배열 연결: 종연결 \n",
    "arr_total = np.vstack([arr_1, arr_2, arr_3])\n",
    "\n",
    "arr_total"
   ]
  },
  {
   "cell_type": "code",
   "execution_count": 153,
   "metadata": {},
   "outputs": [
    {
     "data": {
      "text/plain": [
       "array([1, 2, 3, 4, 5, 6, 7, 8, 9])"
      ]
     },
     "execution_count": 153,
     "metadata": {},
     "output_type": "execute_result"
    }
   ],
   "source": [
    "# [+] 배열 연결: 횡연결\n",
    "arr_total = np.hstack([arr_1, arr_2, arr_3])\n",
    "\n",
    "arr_total"
   ]
  },
  {
   "cell_type": "code",
   "execution_count": 155,
   "metadata": {},
   "outputs": [
    {
     "name": "stdout",
     "output_type": "stream",
     "text": [
      "[1, 2, 3, 99, 99, 3, 2, 1]\n",
      "[1 2 3] [99 99] [3 2 1]\n"
     ]
    }
   ],
   "source": [
    "arr = [1, 2, 3, 99, 99, 3, 2, 1]\n",
    "print(arr)\n",
    "\n",
    "# [+] 배열 분할 [1,2,3], [99,99], [3,2,1]\n",
    "arr_1, arr_2, arr_3 = np.split(arr, [3,5])\n",
    "print(arr_1, arr_2, arr_3)"
   ]
  }
 ],
 "metadata": {
  "kernelspec": {
   "display_name": "Python 3 (ipykernel)",
   "language": "python",
   "name": "python3"
  },
  "language_info": {
   "codemirror_mode": {
    "name": "ipython",
    "version": 3
   },
   "file_extension": ".py",
   "mimetype": "text/x-python",
   "name": "python",
   "nbconvert_exporter": "python",
   "pygments_lexer": "ipython3",
   "version": "3.12.4"
  }
 },
 "nbformat": 4,
 "nbformat_minor": 4
}
