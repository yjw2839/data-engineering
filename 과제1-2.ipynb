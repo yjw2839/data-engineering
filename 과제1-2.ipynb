{
 "cells": [
  {
   "cell_type": "code",
   "execution_count": 71,
   "id": "c1e717f4-c7d0-4d60-8a44-f9c7a51029a3",
   "metadata": {},
   "outputs": [
    {
     "name": "stdout",
     "output_type": "stream",
     "text": [
      "[['physics', 98], ['calculus', 97], ['poetry', 85], ['history', 88]]\n"
     ]
    }
   ],
   "source": [
    "subject = [\"physics\", \"calculus\", \"poetry\", \"history\"]\n",
    "grades = [98, 97, 85, 88]\n",
    "gradebook = []\n",
    "\n",
    "for i in range(4) :\n",
    "    gradebook += [[subject[i], grades[i]]]\n",
    "    \n",
    "print(gradebook)"
   ]
  },
  {
   "cell_type": "code",
   "execution_count": 72,
   "id": "19ce65d2-6d76-4901-95c1-485d1ff98cd9",
   "metadata": {},
   "outputs": [
    {
     "name": "stdout",
     "output_type": "stream",
     "text": [
      "[['physics', 98], ['calculus', 97], ['poetry', 85], ['history', 88], ['computer science', 100], ['visual arts', 93]]\n"
     ]
    }
   ],
   "source": [
    "gradebook.append(['computer science', 100])\n",
    "gradebook.append(['visual arts', 93])\n",
    "print(gradebook)"
   ]
  },
  {
   "cell_type": "code",
   "execution_count": 73,
   "id": "359a6046-82d4-45ce-8053-d4bf5583a1ef",
   "metadata": {},
   "outputs": [
    {
     "name": "stdout",
     "output_type": "stream",
     "text": [
      "98\n"
     ]
    }
   ],
   "source": [
    "gradebook[5][1] = 98\n",
    "print(gradebook[5][1])\n",
    "\n",
    "gradebook[2].remove(85)"
   ]
  },
  {
   "cell_type": "code",
   "execution_count": 74,
   "id": "7580b1fe-b3b8-4c9a-8424-a2fdf1b3a93a",
   "metadata": {},
   "outputs": [
    {
     "name": "stdout",
     "output_type": "stream",
     "text": [
      "[['physics', 98], ['calculus', 97], ['poetry'], ['history', 88], ['computer science', 100], ['visual arts', 98]]\n"
     ]
    }
   ],
   "source": [
    "print(gradebook)"
   ]
  },
  {
   "cell_type": "code",
   "execution_count": 75,
   "id": "000ed4d8-e64a-4305-9ca6-cbfc6a81e539",
   "metadata": {},
   "outputs": [
    {
     "name": "stdout",
     "output_type": "stream",
     "text": [
      "[['physics', 98], ['calculus', 97], ['poetry', 'Pass'], ['history', 88], ['computer science', 100], ['visual arts', 98]]\n"
     ]
    }
   ],
   "source": [
    "gradebook[2].append(\"Pass\")\n",
    "print(gradebook)"
   ]
  },
  {
   "cell_type": "code",
   "execution_count": 77,
   "id": "6668fdf5-bea9-42e0-9079-c4f703e0125d",
   "metadata": {},
   "outputs": [
    {
     "name": "stdout",
     "output_type": "stream",
     "text": [
      "[['politics', 80], ['latin', 96], ['dance', 97], ['architecture', 65], ['physics', 98], ['calculus', 97], ['poetry', 'Pass'], ['history', 88], ['computer science', 100], ['visual arts', 98]]\n"
     ]
    }
   ],
   "source": [
    "last_semester_gradebook = [[\"politics\", 80], [\"latin\", 96], [\"dance\", 97], [\"architecture\", 65]]\n",
    "full_gradebook = last_semester_gradebook + gradebook\n",
    "print(full_gradebook)"
   ]
  }
 ],
 "metadata": {
  "kernelspec": {
   "display_name": "Python 3 (ipykernel)",
   "language": "python",
   "name": "python3"
  },
  "language_info": {
   "codemirror_mode": {
    "name": "ipython",
    "version": 3
   },
   "file_extension": ".py",
   "mimetype": "text/x-python",
   "name": "python",
   "nbconvert_exporter": "python",
   "pygments_lexer": "ipython3",
   "version": "3.12.4"
  }
 },
 "nbformat": 4,
 "nbformat_minor": 5
}
